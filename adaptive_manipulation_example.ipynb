{
 "cells": [
  {
   "cell_type": "code",
   "execution_count": 1,
   "id": "38f6cdf1-96f2-4f6d-b613-6502d29680c2",
   "metadata": {
    "tags": []
   },
   "outputs": [
    {
     "name": "stderr",
     "output_type": "stream",
     "text": [
      "WARNING: UnitsWarning: 'DEG' did not parse as fits unit: At col 0, Unit 'DEG' not supported by the FITS standard. Did you mean EG, Eg, dG, deg or dg? If this is meant to be a custom unit, define it with 'u.def_unit'. To have it recognized inside a file reader or other code, enable it with 'u.add_enabled_units'. For details, see https://docs.astropy.org/en/latest/units/combining_and_defining.html [astropy.units.core]\n",
      "WARNING: UnitsWarning: 'JY' did not parse as fits unit: At col 0, Unit 'JY' not supported by the FITS standard. Did you mean Jy, YJy, ZJy, yJy or zJy? If this is meant to be a custom unit, define it with 'u.def_unit'. To have it recognized inside a file reader or other code, enable it with 'u.add_enabled_units'. For details, see https://docs.astropy.org/en/latest/units/combining_and_defining.html [astropy.units.core]\n",
      "WARNING: UnitsWarning: 'JY/BEAM' did not parse as fits unit: At col 0, Unit 'JY' not supported by the FITS standard. Did you mean Jy, YJy, ZJy, yJy or zJy? If this is meant to be a custom unit, define it with 'u.def_unit'. To have it recognized inside a file reader or other code, enable it with 'u.add_enabled_units'. For details, see https://docs.astropy.org/en/latest/units/combining_and_defining.html [astropy.units.core]\n",
      "WARNING: UnitsWarning: 'HZ' did not parse as fits unit: At col 0, Unit 'HZ' not supported by the FITS standard. Did you mean Hz, YHz, ZHz, yHz or zHz? If this is meant to be a custom unit, define it with 'u.def_unit'. To have it recognized inside a file reader or other code, enable it with 'u.add_enabled_units'. For details, see https://docs.astropy.org/en/latest/units/combining_and_defining.html [astropy.units.core]\n",
      "WARNING: UnitsWarning: 'DEG' did not parse as fits unit: At col 0, Unit 'DEG' not supported by the FITS standard. Did you mean EG, Eg, dG, deg or dg? If this is meant to be a custom unit, define it with 'u.def_unit'. To have it recognized inside a file reader or other code, enable it with 'u.add_enabled_units'. For details, see https://docs.astropy.org/en/latest/units/combining_and_defining.html [astropy.units.core]\n",
      "WARNING: UnitsWarning: 'JY' did not parse as fits unit: At col 0, Unit 'JY' not supported by the FITS standard. Did you mean Jy, YJy, ZJy, yJy or zJy? If this is meant to be a custom unit, define it with 'u.def_unit'. To have it recognized inside a file reader or other code, enable it with 'u.add_enabled_units'. For details, see https://docs.astropy.org/en/latest/units/combining_and_defining.html [astropy.units.core]\n",
      "WARNING: UnitsWarning: 'JY/BEAM' did not parse as fits unit: At col 0, Unit 'JY' not supported by the FITS standard. Did you mean Jy, YJy, ZJy, yJy or zJy? If this is meant to be a custom unit, define it with 'u.def_unit'. To have it recognized inside a file reader or other code, enable it with 'u.add_enabled_units'. For details, see https://docs.astropy.org/en/latest/units/combining_and_defining.html [astropy.units.core]\n",
      "WARNING: UnitsWarning: 'HZ' did not parse as fits unit: At col 0, Unit 'HZ' not supported by the FITS standard. Did you mean Hz, YHz, ZHz, yHz or zHz? If this is meant to be a custom unit, define it with 'u.def_unit'. To have it recognized inside a file reader or other code, enable it with 'u.add_enabled_units'. For details, see https://docs.astropy.org/en/latest/units/combining_and_defining.html [astropy.units.core]\n"
     ]
    },
    {
     "name": "stdout",
     "output_type": "stream",
     "text": [
      "1712\n",
      "(1, 70, 70)\n"
     ]
    }
   ],
   "source": [
    "from torch.utils.data import DataLoader\n",
    "import numpy as np\n",
    "\n",
    "from cata2data import CataData\n",
    "from cata2data.preprocessing import (\n",
    "    image_preprocessing,\n",
    "    wcs_preprocessing,\n",
    "    catalogue_preprocessing,\n",
    ")\n",
    "\n",
    "# Data available at: https://archive-gw-1.kat.ac.za/public/repository/10.48479/emmd-kf31/index.html\n",
    "catalogue_paths = [\n",
    "    \"data/MIGHTEE_Continuum_Early_Science_COSMOS_Level1.fits\",\n",
    "    \"data/MIGHTEE_Continuum_Early_Science_XMMLSS_Level1.fits\",\n",
    "]\n",
    "image_paths = [\n",
    "    \"data/MIGHTEE_Continuum_Early_Science_COSMOS_r-1p2.app.restored.circ.fits\",\n",
    "    \"data/MIGHTEE_Continuum_Early_Science_XMMLSS_r-1p2_circ.hires.fits\",\n",
    "]\n",
    "field_names = [\"COSMOS\", \"XMMLSS\"]\n",
    "\n",
    "### Create Data Set ###\n",
    "mightee_data = CataData(\n",
    "    catalogue_paths=catalogue_paths,\n",
    "    image_paths=image_paths,\n",
    "    field_names=field_names,\n",
    "    cutout_width=70,\n",
    "    catalogue_preprocessing=catalogue_preprocessing,\n",
    "    spectral_axis=False,\n",
    ")\n",
    "\n",
    "print(len(mightee_data))\n",
    "print(mightee_data[0].shape)"
   ]
  },
  {
   "cell_type": "code",
   "execution_count": 2,
   "id": "aec98625-d192-41c9-afef-3ccc51cdd8c7",
   "metadata": {},
   "outputs": [
    {
     "name": "stdout",
     "output_type": "stream",
     "text": [
      "torch.Size([64, 1, 70, 70])\n"
     ]
    }
   ],
   "source": [
    "class ClippedCataData:\n",
    "    def __init__(self, catadata, sigma):\n",
    "        self.sigma = sigma\n",
    "        self.catadata = catadata\n",
    "\n",
    "    def __getitem__(self, index):\n",
    "        rms = self.catadata.df.loc[index, \"ISL_RMS\"]\n",
    "        return np.where(\n",
    "            self.catadata[index] > self.sigma * rms, self.catadata[index], 0\n",
    "        )\n",
    "\n",
    "    def __len__(self):\n",
    "        return self.catadata.__len__()\n",
    "\n",
    "\n",
    "train_dataloader = DataLoader(\n",
    "    ClippedCataData(mightee_data, 3), batch_size=64, shuffle=True\n",
    ")\n",
    "\n",
    "for data in train_dataloader:\n",
    "    print(data.shape)\n",
    "    break"
   ]
  },
  {
   "cell_type": "code",
   "execution_count": null,
   "id": "e93422b0-e006-4177-bc56-a1abb53a8657",
   "metadata": {},
   "outputs": [],
   "source": []
  }
 ],
 "metadata": {
  "kernelspec": {
   "display_name": "Python 3 (ipykernel)",
   "language": "python",
   "name": "python3"
  },
  "language_info": {
   "codemirror_mode": {
    "name": "ipython",
    "version": 3
   },
   "file_extension": ".py",
   "mimetype": "text/x-python",
   "name": "python",
   "nbconvert_exporter": "python",
   "pygments_lexer": "ipython3",
   "version": "3.10.6"
  }
 },
 "nbformat": 4,
 "nbformat_minor": 5
}
